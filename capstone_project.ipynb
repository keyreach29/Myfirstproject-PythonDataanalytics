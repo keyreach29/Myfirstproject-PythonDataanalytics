{
 "cells": [
  {
   "cell_type": "code",
   "execution_count": 1,
   "id": "3ec944e6-8cdb-4f94-9134-bb389fc5aecc",
   "metadata": {},
   "outputs": [],
   "source": [
    "import numpy as np\n",
    "import pandas as pd\n",
    "import matplotlib.pyplot as plt\n",
    "import seaborn as sns\n",
    "from faker import Faker\n",
    "from mysql import connector as con\n",
    "import os"
   ]
  },
  {
   "cell_type": "code",
   "execution_count": 2,
   "id": "f03c934c-1c88-4592-9bc1-9a345719264c",
   "metadata": {},
   "outputs": [],
   "source": [
    "# creating an instance of Faker class\n",
    "fk = Faker()"
   ]
  },
  {
   "cell_type": "code",
   "execution_count": 3,
   "id": "1f2fbcc3-bb75-4857-9e51-8d9ca1b65043",
   "metadata": {},
   "outputs": [],
   "source": [
    "# Declaring the number of rows my dataset with have\n",
    "rows = 50000"
   ]
  },
  {
   "cell_type": "code",
   "execution_count": 4,
   "id": "b3a1dcd8-f273-41d0-9506-1b9281d545a2",
   "metadata": {},
   "outputs": [],
   "source": [
    "# Making sure the dataset is reproducible\n",
    "Faker.seed(452)\n",
    "\n",
    "# Declaring an empty list where infomation of each row will be appended\n",
    "books = []\n",
    "\n",
    "# Iterrating over each row to generate the entries for each column\n",
    "for row in range(rows):\n",
    "    \n",
    "    # Creating a dictionary that will hold the enteries for each row that is iterrated over\n",
    "    book={\n",
    "        # column : values\n",
    "        \"bookid\":row,\n",
    "        \"author\":fk.name(),\n",
    "        \"title\":fk.sentence(),\n",
    "        \"published\":fk.year(),\n",
    "        \"barcode\":fk.ean(length=13)\n",
    "    }\n",
    "    # Appending the rows to the empty book list created\n",
    "    books.append(book)\n",
    "    \n",
    "# Declaring an empty list where infomation of each row will be appended    \n",
    "patrons = []\n",
    "\n",
    "# Iterrating over each row to generate the entries for each column\n",
    "for row in range(rows):\n",
    "    \n",
    "    # Creating a dictionary that will hold the enteries for each row that is iterrated over\n",
    "    patron = {\n",
    "        # column : values\n",
    "        \"patronid\":row,\n",
    "        \"firstname\":fk.first_name(),\n",
    "        \"lastname\":fk.last_name(),\n",
    "        \"email\":fk.email()\n",
    "    }\n",
    "    patrons.append(patron)\n",
    "\n",
    "\n",
    "# Declaring an empty list where infomation of each row will be appended\n",
    "loans = []\n",
    "\n",
    "# Iterrating over each row to generate the entries for each column\n",
    "for row in range(rows):\n",
    "    \n",
    "    # Creating a dictionary that will hold the enteries for each row that is iterrated over\n",
    "    loan = {\n",
    "        \"loanid\":row,\n",
    "        \"bookid\":row,\n",
    "        \"patronid\":row,\n",
    "        \"loandate\":fk.date_this_century(),\n",
    "        \"duedate\":fk.date_this_century(),\n",
    "        \"returneddate\":fk.date_this_century()\n",
    "    }\n",
    "    loans.append(loan)"
   ]
  },
  {
   "cell_type": "code",
   "execution_count": 5,
   "id": "37ac70db-65e3-4345-a31d-cb2f419da610",
   "metadata": {},
   "outputs": [],
   "source": [
    "# Transforming the list of dataset generated into pandas dataframe\n",
    "# Resetting the index of each dataframe\n",
    "book_df = pd.DataFrame(books)\n",
    "book_df = book_df.set_index(\"bookid\")\n",
    "patron_df = pd.DataFrame(patrons)\n",
    "patron_df = patron_df.set_index(\"patronid\")\n",
    "loan_df = pd.DataFrame(loans)\n",
    "loan_df = loan_df.set_index(\"loanid\")"
   ]
  },
  {
   "cell_type": "code",
   "execution_count": 6,
   "id": "40f7191f-33e3-45c5-bc1b-84a3116c93ce",
   "metadata": {},
   "outputs": [
    {
     "data": {
      "text/html": [
       "<div>\n",
       "<style scoped>\n",
       "    .dataframe tbody tr th:only-of-type {\n",
       "        vertical-align: middle;\n",
       "    }\n",
       "\n",
       "    .dataframe tbody tr th {\n",
       "        vertical-align: top;\n",
       "    }\n",
       "\n",
       "    .dataframe thead th {\n",
       "        text-align: right;\n",
       "    }\n",
       "</style>\n",
       "<table border=\"1\" class=\"dataframe\">\n",
       "  <thead>\n",
       "    <tr style=\"text-align: right;\">\n",
       "      <th></th>\n",
       "      <th>author</th>\n",
       "      <th>title</th>\n",
       "      <th>published</th>\n",
       "      <th>barcode</th>\n",
       "    </tr>\n",
       "    <tr>\n",
       "      <th>bookid</th>\n",
       "      <th></th>\n",
       "      <th></th>\n",
       "      <th></th>\n",
       "      <th></th>\n",
       "    </tr>\n",
       "  </thead>\n",
       "  <tbody>\n",
       "    <tr>\n",
       "      <th>0</th>\n",
       "      <td>Matthew Newton</td>\n",
       "      <td>Become because woman your mind successful.</td>\n",
       "      <td>2005</td>\n",
       "      <td>9709724946267</td>\n",
       "    </tr>\n",
       "    <tr>\n",
       "      <th>1</th>\n",
       "      <td>Ricky Baker</td>\n",
       "      <td>Wear send week front probably piece soon.</td>\n",
       "      <td>2012</td>\n",
       "      <td>1190253231463</td>\n",
       "    </tr>\n",
       "    <tr>\n",
       "      <th>2</th>\n",
       "      <td>Jason Sutton</td>\n",
       "      <td>Soldier anyone in require I catch face.</td>\n",
       "      <td>1984</td>\n",
       "      <td>9006055929328</td>\n",
       "    </tr>\n",
       "    <tr>\n",
       "      <th>3</th>\n",
       "      <td>Jamie Koch</td>\n",
       "      <td>Need understand draw behavior woman later look...</td>\n",
       "      <td>2022</td>\n",
       "      <td>6788634237453</td>\n",
       "    </tr>\n",
       "    <tr>\n",
       "      <th>4</th>\n",
       "      <td>Douglas Hickman</td>\n",
       "      <td>All else tonight address under type task money.</td>\n",
       "      <td>1974</td>\n",
       "      <td>7440361577439</td>\n",
       "    </tr>\n",
       "  </tbody>\n",
       "</table>\n",
       "</div>"
      ],
      "text/plain": [
       "                 author                                              title  \\\n",
       "bookid                                                                       \n",
       "0        Matthew Newton         Become because woman your mind successful.   \n",
       "1           Ricky Baker          Wear send week front probably piece soon.   \n",
       "2          Jason Sutton            Soldier anyone in require I catch face.   \n",
       "3            Jamie Koch  Need understand draw behavior woman later look...   \n",
       "4       Douglas Hickman    All else tonight address under type task money.   \n",
       "\n",
       "       published        barcode  \n",
       "bookid                           \n",
       "0           2005  9709724946267  \n",
       "1           2012  1190253231463  \n",
       "2           1984  9006055929328  \n",
       "3           2022  6788634237453  \n",
       "4           1974  7440361577439  "
      ]
     },
     "execution_count": 6,
     "metadata": {},
     "output_type": "execute_result"
    }
   ],
   "source": [
    "book_df.head()"
   ]
  },
  {
   "cell_type": "code",
   "execution_count": 7,
   "id": "ab4e6182-1f09-48bc-b721-0a24468a7681",
   "metadata": {},
   "outputs": [
    {
     "data": {
      "text/html": [
       "<div>\n",
       "<style scoped>\n",
       "    .dataframe tbody tr th:only-of-type {\n",
       "        vertical-align: middle;\n",
       "    }\n",
       "\n",
       "    .dataframe tbody tr th {\n",
       "        vertical-align: top;\n",
       "    }\n",
       "\n",
       "    .dataframe thead th {\n",
       "        text-align: right;\n",
       "    }\n",
       "</style>\n",
       "<table border=\"1\" class=\"dataframe\">\n",
       "  <thead>\n",
       "    <tr style=\"text-align: right;\">\n",
       "      <th></th>\n",
       "      <th>firstname</th>\n",
       "      <th>lastname</th>\n",
       "      <th>email</th>\n",
       "    </tr>\n",
       "    <tr>\n",
       "      <th>patronid</th>\n",
       "      <th></th>\n",
       "      <th></th>\n",
       "      <th></th>\n",
       "    </tr>\n",
       "  </thead>\n",
       "  <tbody>\n",
       "    <tr>\n",
       "      <th>0</th>\n",
       "      <td>Leah</td>\n",
       "      <td>Moore</td>\n",
       "      <td>lindsey21@example.org</td>\n",
       "    </tr>\n",
       "    <tr>\n",
       "      <th>1</th>\n",
       "      <td>Stephanie</td>\n",
       "      <td>Romero</td>\n",
       "      <td>melissa70@example.com</td>\n",
       "    </tr>\n",
       "    <tr>\n",
       "      <th>2</th>\n",
       "      <td>Isaac</td>\n",
       "      <td>Rodriguez</td>\n",
       "      <td>williamsgabriella@example.com</td>\n",
       "    </tr>\n",
       "    <tr>\n",
       "      <th>3</th>\n",
       "      <td>Mercedes</td>\n",
       "      <td>Boyle</td>\n",
       "      <td>sloanmichelle@example.org</td>\n",
       "    </tr>\n",
       "    <tr>\n",
       "      <th>4</th>\n",
       "      <td>Bryan</td>\n",
       "      <td>Evans</td>\n",
       "      <td>mortonjessica@example.org</td>\n",
       "    </tr>\n",
       "  </tbody>\n",
       "</table>\n",
       "</div>"
      ],
      "text/plain": [
       "          firstname   lastname                          email\n",
       "patronid                                                     \n",
       "0              Leah      Moore          lindsey21@example.org\n",
       "1         Stephanie     Romero          melissa70@example.com\n",
       "2             Isaac  Rodriguez  williamsgabriella@example.com\n",
       "3          Mercedes      Boyle      sloanmichelle@example.org\n",
       "4             Bryan      Evans      mortonjessica@example.org"
      ]
     },
     "execution_count": 7,
     "metadata": {},
     "output_type": "execute_result"
    }
   ],
   "source": [
    "patron_df.head()"
   ]
  },
  {
   "cell_type": "code",
   "execution_count": 8,
   "id": "49dbd7d2-0b36-4fc0-b002-10170ad85dc3",
   "metadata": {},
   "outputs": [
    {
     "data": {
      "text/html": [
       "<div>\n",
       "<style scoped>\n",
       "    .dataframe tbody tr th:only-of-type {\n",
       "        vertical-align: middle;\n",
       "    }\n",
       "\n",
       "    .dataframe tbody tr th {\n",
       "        vertical-align: top;\n",
       "    }\n",
       "\n",
       "    .dataframe thead th {\n",
       "        text-align: right;\n",
       "    }\n",
       "</style>\n",
       "<table border=\"1\" class=\"dataframe\">\n",
       "  <thead>\n",
       "    <tr style=\"text-align: right;\">\n",
       "      <th></th>\n",
       "      <th>bookid</th>\n",
       "      <th>patronid</th>\n",
       "      <th>loandate</th>\n",
       "      <th>duedate</th>\n",
       "      <th>returneddate</th>\n",
       "    </tr>\n",
       "    <tr>\n",
       "      <th>loanid</th>\n",
       "      <th></th>\n",
       "      <th></th>\n",
       "      <th></th>\n",
       "      <th></th>\n",
       "      <th></th>\n",
       "    </tr>\n",
       "  </thead>\n",
       "  <tbody>\n",
       "    <tr>\n",
       "      <th>0</th>\n",
       "      <td>0</td>\n",
       "      <td>0</td>\n",
       "      <td>2005-03-09</td>\n",
       "      <td>2022-03-19</td>\n",
       "      <td>2007-11-19</td>\n",
       "    </tr>\n",
       "    <tr>\n",
       "      <th>1</th>\n",
       "      <td>1</td>\n",
       "      <td>1</td>\n",
       "      <td>2011-08-03</td>\n",
       "      <td>2002-01-22</td>\n",
       "      <td>2002-06-01</td>\n",
       "    </tr>\n",
       "    <tr>\n",
       "      <th>2</th>\n",
       "      <td>2</td>\n",
       "      <td>2</td>\n",
       "      <td>2011-01-08</td>\n",
       "      <td>2009-10-31</td>\n",
       "      <td>2005-07-15</td>\n",
       "    </tr>\n",
       "    <tr>\n",
       "      <th>3</th>\n",
       "      <td>3</td>\n",
       "      <td>3</td>\n",
       "      <td>2000-01-14</td>\n",
       "      <td>2013-11-19</td>\n",
       "      <td>2011-12-02</td>\n",
       "    </tr>\n",
       "    <tr>\n",
       "      <th>4</th>\n",
       "      <td>4</td>\n",
       "      <td>4</td>\n",
       "      <td>2014-05-12</td>\n",
       "      <td>2016-09-02</td>\n",
       "      <td>2000-10-05</td>\n",
       "    </tr>\n",
       "  </tbody>\n",
       "</table>\n",
       "</div>"
      ],
      "text/plain": [
       "        bookid  patronid    loandate     duedate returneddate\n",
       "loanid                                                       \n",
       "0            0         0  2005-03-09  2022-03-19   2007-11-19\n",
       "1            1         1  2011-08-03  2002-01-22   2002-06-01\n",
       "2            2         2  2011-01-08  2009-10-31   2005-07-15\n",
       "3            3         3  2000-01-14  2013-11-19   2011-12-02\n",
       "4            4         4  2014-05-12  2016-09-02   2000-10-05"
      ]
     },
     "execution_count": 8,
     "metadata": {},
     "output_type": "execute_result"
    }
   ],
   "source": [
    "loan_df.head()"
   ]
  },
  {
   "cell_type": "code",
   "execution_count": 9,
   "id": "40664359-7ebd-4e82-8c6f-b757db8b7fd7",
   "metadata": {},
   "outputs": [],
   "source": [
    "# Regenerating the bookid and patronid column randomly in loan_df - idea is to reshuffle it\n",
    "loan_df[\"bookid\"] = np.random.randint(1, 50001, size=50000)\n",
    "loan_df[\"patronid\"] = np.random.randint(1, 50001, size=50000)"
   ]
  },
  {
   "cell_type": "code",
   "execution_count": 10,
   "id": "fd026c1d-ff86-4f8f-a5f9-6e166aee3210",
   "metadata": {},
   "outputs": [
    {
     "data": {
      "text/html": [
       "<div>\n",
       "<style scoped>\n",
       "    .dataframe tbody tr th:only-of-type {\n",
       "        vertical-align: middle;\n",
       "    }\n",
       "\n",
       "    .dataframe tbody tr th {\n",
       "        vertical-align: top;\n",
       "    }\n",
       "\n",
       "    .dataframe thead th {\n",
       "        text-align: right;\n",
       "    }\n",
       "</style>\n",
       "<table border=\"1\" class=\"dataframe\">\n",
       "  <thead>\n",
       "    <tr style=\"text-align: right;\">\n",
       "      <th></th>\n",
       "      <th>bookid</th>\n",
       "      <th>patronid</th>\n",
       "      <th>loandate</th>\n",
       "      <th>duedate</th>\n",
       "      <th>returneddate</th>\n",
       "    </tr>\n",
       "    <tr>\n",
       "      <th>loanid</th>\n",
       "      <th></th>\n",
       "      <th></th>\n",
       "      <th></th>\n",
       "      <th></th>\n",
       "      <th></th>\n",
       "    </tr>\n",
       "  </thead>\n",
       "  <tbody>\n",
       "    <tr>\n",
       "      <th>0</th>\n",
       "      <td>12230</td>\n",
       "      <td>46908</td>\n",
       "      <td>2005-03-09</td>\n",
       "      <td>2022-03-19</td>\n",
       "      <td>2007-11-19</td>\n",
       "    </tr>\n",
       "    <tr>\n",
       "      <th>1</th>\n",
       "      <td>16965</td>\n",
       "      <td>33458</td>\n",
       "      <td>2011-08-03</td>\n",
       "      <td>2002-01-22</td>\n",
       "      <td>2002-06-01</td>\n",
       "    </tr>\n",
       "    <tr>\n",
       "      <th>2</th>\n",
       "      <td>45521</td>\n",
       "      <td>1241</td>\n",
       "      <td>2011-01-08</td>\n",
       "      <td>2009-10-31</td>\n",
       "      <td>2005-07-15</td>\n",
       "    </tr>\n",
       "    <tr>\n",
       "      <th>3</th>\n",
       "      <td>1800</td>\n",
       "      <td>30177</td>\n",
       "      <td>2000-01-14</td>\n",
       "      <td>2013-11-19</td>\n",
       "      <td>2011-12-02</td>\n",
       "    </tr>\n",
       "    <tr>\n",
       "      <th>4</th>\n",
       "      <td>41583</td>\n",
       "      <td>16651</td>\n",
       "      <td>2014-05-12</td>\n",
       "      <td>2016-09-02</td>\n",
       "      <td>2000-10-05</td>\n",
       "    </tr>\n",
       "  </tbody>\n",
       "</table>\n",
       "</div>"
      ],
      "text/plain": [
       "        bookid  patronid    loandate     duedate returneddate\n",
       "loanid                                                       \n",
       "0        12230     46908  2005-03-09  2022-03-19   2007-11-19\n",
       "1        16965     33458  2011-08-03  2002-01-22   2002-06-01\n",
       "2        45521      1241  2011-01-08  2009-10-31   2005-07-15\n",
       "3         1800     30177  2000-01-14  2013-11-19   2011-12-02\n",
       "4        41583     16651  2014-05-12  2016-09-02   2000-10-05"
      ]
     },
     "execution_count": 10,
     "metadata": {},
     "output_type": "execute_result"
    }
   ],
   "source": [
    "loan_df.head()"
   ]
  },
  {
   "cell_type": "code",
   "execution_count": 11,
   "id": "33edcd3c-f130-42a4-a1d4-ceefc2ffbc93",
   "metadata": {},
   "outputs": [],
   "source": [
    "# converting the date columns to datatime64[ns] datatype\n",
    "loan_df[[\"loandate\", \"duedate\", \"returneddate\"]] =loan_df[[\"loandate\", \"duedate\", \"returneddate\"]].apply(lambda x: pd.to_datetime(x))"
   ]
  },
  {
   "cell_type": "code",
   "execution_count": 12,
   "id": "2567a665-7a38-458e-b4ce-d34db8e1a173",
   "metadata": {},
   "outputs": [],
   "source": [
    "# recreating the duedate to make duration of return 14 days and correct any date inconsistency\n",
    "loan_df[\"duedate\"]= loan_df[\"loandate\"] + pd.Timedelta(days=14)"
   ]
  },
  {
   "cell_type": "code",
   "execution_count": 13,
   "id": "b2f2c5ff-5cef-4668-9133-30ce9dbb8351",
   "metadata": {},
   "outputs": [],
   "source": [
    "# recreating the return to make duration of return random days as people may return the books at different duration time and correct any date inconsistency\n",
    "loan_df[\"returneddate\"] = loan_df[\"loandate\"].apply(lambda x: x + pd.Timedelta(days=np.random.randint(2, 20)))"
   ]
  },
  {
   "cell_type": "code",
   "execution_count": 14,
   "id": "438bd3de-b97d-4a80-b16d-b39211d9b5bc",
   "metadata": {},
   "outputs": [],
   "source": [
    "# Generating row number of boolean value of with 30% is True bool and 70% is False bool\n",
    "mask = np.random.choice([True, False], size=loan_df.shape[0], p=[0.3, 0.7])\n",
    "# conditionaly filtering to assign randomly selected rows nan values since not everyone would have return their books\n",
    "loan_df.loc[mask, \"returneddate\"] = np.null"
   ]
  },
  {
   "cell_type": "code",
   "execution_count": 15,
   "id": "5d9ff77d-626e-4656-891f-4d8dca3ae865",
   "metadata": {},
   "outputs": [
    {
     "data": {
      "text/html": [
       "<div>\n",
       "<style scoped>\n",
       "    .dataframe tbody tr th:only-of-type {\n",
       "        vertical-align: middle;\n",
       "    }\n",
       "\n",
       "    .dataframe tbody tr th {\n",
       "        vertical-align: top;\n",
       "    }\n",
       "\n",
       "    .dataframe thead th {\n",
       "        text-align: right;\n",
       "    }\n",
       "</style>\n",
       "<table border=\"1\" class=\"dataframe\">\n",
       "  <thead>\n",
       "    <tr style=\"text-align: right;\">\n",
       "      <th></th>\n",
       "      <th>author</th>\n",
       "      <th>title</th>\n",
       "      <th>published</th>\n",
       "      <th>barcode</th>\n",
       "    </tr>\n",
       "    <tr>\n",
       "      <th>bookid</th>\n",
       "      <th></th>\n",
       "      <th></th>\n",
       "      <th></th>\n",
       "      <th></th>\n",
       "    </tr>\n",
       "  </thead>\n",
       "  <tbody>\n",
       "    <tr>\n",
       "      <th>0</th>\n",
       "      <td>Matthew Newton</td>\n",
       "      <td>Become because woman your mind successful.</td>\n",
       "      <td>2005</td>\n",
       "      <td>9709724946267</td>\n",
       "    </tr>\n",
       "    <tr>\n",
       "      <th>1</th>\n",
       "      <td>Ricky Baker</td>\n",
       "      <td>Wear send week front probably piece soon.</td>\n",
       "      <td>2012</td>\n",
       "      <td>1190253231463</td>\n",
       "    </tr>\n",
       "    <tr>\n",
       "      <th>2</th>\n",
       "      <td>Jason Sutton</td>\n",
       "      <td>Soldier anyone in require I catch face.</td>\n",
       "      <td>1984</td>\n",
       "      <td>9006055929328</td>\n",
       "    </tr>\n",
       "    <tr>\n",
       "      <th>3</th>\n",
       "      <td>Jamie Koch</td>\n",
       "      <td>Need understand draw behavior woman later look...</td>\n",
       "      <td>2022</td>\n",
       "      <td>6788634237453</td>\n",
       "    </tr>\n",
       "    <tr>\n",
       "      <th>4</th>\n",
       "      <td>Douglas Hickman</td>\n",
       "      <td>All else tonight address under type task money.</td>\n",
       "      <td>1974</td>\n",
       "      <td>7440361577439</td>\n",
       "    </tr>\n",
       "  </tbody>\n",
       "</table>\n",
       "</div>"
      ],
      "text/plain": [
       "                 author                                              title  \\\n",
       "bookid                                                                       \n",
       "0        Matthew Newton         Become because woman your mind successful.   \n",
       "1           Ricky Baker          Wear send week front probably piece soon.   \n",
       "2          Jason Sutton            Soldier anyone in require I catch face.   \n",
       "3            Jamie Koch  Need understand draw behavior woman later look...   \n",
       "4       Douglas Hickman    All else tonight address under type task money.   \n",
       "\n",
       "       published        barcode  \n",
       "bookid                           \n",
       "0           2005  9709724946267  \n",
       "1           2012  1190253231463  \n",
       "2           1984  9006055929328  \n",
       "3           2022  6788634237453  \n",
       "4           1974  7440361577439  "
      ]
     },
     "execution_count": 15,
     "metadata": {},
     "output_type": "execute_result"
    }
   ],
   "source": [
    "book_df.head()"
   ]
  },
  {
   "cell_type": "code",
   "execution_count": 16,
   "id": "5ce762e5-b81f-43ce-8c10-05ea05e8e6cc",
   "metadata": {},
   "outputs": [
    {
     "data": {
      "text/html": [
       "<div>\n",
       "<style scoped>\n",
       "    .dataframe tbody tr th:only-of-type {\n",
       "        vertical-align: middle;\n",
       "    }\n",
       "\n",
       "    .dataframe tbody tr th {\n",
       "        vertical-align: top;\n",
       "    }\n",
       "\n",
       "    .dataframe thead th {\n",
       "        text-align: right;\n",
       "    }\n",
       "</style>\n",
       "<table border=\"1\" class=\"dataframe\">\n",
       "  <thead>\n",
       "    <tr style=\"text-align: right;\">\n",
       "      <th></th>\n",
       "      <th>firstname</th>\n",
       "      <th>lastname</th>\n",
       "      <th>email</th>\n",
       "    </tr>\n",
       "    <tr>\n",
       "      <th>patronid</th>\n",
       "      <th></th>\n",
       "      <th></th>\n",
       "      <th></th>\n",
       "    </tr>\n",
       "  </thead>\n",
       "  <tbody>\n",
       "    <tr>\n",
       "      <th>0</th>\n",
       "      <td>Leah</td>\n",
       "      <td>Moore</td>\n",
       "      <td>lindsey21@example.org</td>\n",
       "    </tr>\n",
       "    <tr>\n",
       "      <th>1</th>\n",
       "      <td>Stephanie</td>\n",
       "      <td>Romero</td>\n",
       "      <td>melissa70@example.com</td>\n",
       "    </tr>\n",
       "    <tr>\n",
       "      <th>2</th>\n",
       "      <td>Isaac</td>\n",
       "      <td>Rodriguez</td>\n",
       "      <td>williamsgabriella@example.com</td>\n",
       "    </tr>\n",
       "    <tr>\n",
       "      <th>3</th>\n",
       "      <td>Mercedes</td>\n",
       "      <td>Boyle</td>\n",
       "      <td>sloanmichelle@example.org</td>\n",
       "    </tr>\n",
       "    <tr>\n",
       "      <th>4</th>\n",
       "      <td>Bryan</td>\n",
       "      <td>Evans</td>\n",
       "      <td>mortonjessica@example.org</td>\n",
       "    </tr>\n",
       "  </tbody>\n",
       "</table>\n",
       "</div>"
      ],
      "text/plain": [
       "          firstname   lastname                          email\n",
       "patronid                                                     \n",
       "0              Leah      Moore          lindsey21@example.org\n",
       "1         Stephanie     Romero          melissa70@example.com\n",
       "2             Isaac  Rodriguez  williamsgabriella@example.com\n",
       "3          Mercedes      Boyle      sloanmichelle@example.org\n",
       "4             Bryan      Evans      mortonjessica@example.org"
      ]
     },
     "execution_count": 16,
     "metadata": {},
     "output_type": "execute_result"
    }
   ],
   "source": [
    "patron_df.head()"
   ]
  },
  {
   "cell_type": "code",
   "execution_count": 17,
   "id": "5f92a370-4b05-4ef2-a1cd-b4fe87c22c7a",
   "metadata": {},
   "outputs": [
    {
     "data": {
      "text/html": [
       "<div>\n",
       "<style scoped>\n",
       "    .dataframe tbody tr th:only-of-type {\n",
       "        vertical-align: middle;\n",
       "    }\n",
       "\n",
       "    .dataframe tbody tr th {\n",
       "        vertical-align: top;\n",
       "    }\n",
       "\n",
       "    .dataframe thead th {\n",
       "        text-align: right;\n",
       "    }\n",
       "</style>\n",
       "<table border=\"1\" class=\"dataframe\">\n",
       "  <thead>\n",
       "    <tr style=\"text-align: right;\">\n",
       "      <th></th>\n",
       "      <th>bookid</th>\n",
       "      <th>patronid</th>\n",
       "      <th>loandate</th>\n",
       "      <th>duedate</th>\n",
       "      <th>returneddate</th>\n",
       "    </tr>\n",
       "    <tr>\n",
       "      <th>loanid</th>\n",
       "      <th></th>\n",
       "      <th></th>\n",
       "      <th></th>\n",
       "      <th></th>\n",
       "      <th></th>\n",
       "    </tr>\n",
       "  </thead>\n",
       "  <tbody>\n",
       "    <tr>\n",
       "      <th>0</th>\n",
       "      <td>12230</td>\n",
       "      <td>46908</td>\n",
       "      <td>2005-03-09</td>\n",
       "      <td>2005-03-23</td>\n",
       "      <td>NaT</td>\n",
       "    </tr>\n",
       "    <tr>\n",
       "      <th>1</th>\n",
       "      <td>16965</td>\n",
       "      <td>33458</td>\n",
       "      <td>2011-08-03</td>\n",
       "      <td>2011-08-17</td>\n",
       "      <td>NaT</td>\n",
       "    </tr>\n",
       "    <tr>\n",
       "      <th>2</th>\n",
       "      <td>45521</td>\n",
       "      <td>1241</td>\n",
       "      <td>2011-01-08</td>\n",
       "      <td>2011-01-22</td>\n",
       "      <td>NaT</td>\n",
       "    </tr>\n",
       "    <tr>\n",
       "      <th>3</th>\n",
       "      <td>1800</td>\n",
       "      <td>30177</td>\n",
       "      <td>2000-01-14</td>\n",
       "      <td>2000-01-28</td>\n",
       "      <td>NaT</td>\n",
       "    </tr>\n",
       "    <tr>\n",
       "      <th>4</th>\n",
       "      <td>41583</td>\n",
       "      <td>16651</td>\n",
       "      <td>2014-05-12</td>\n",
       "      <td>2014-05-26</td>\n",
       "      <td>NaT</td>\n",
       "    </tr>\n",
       "  </tbody>\n",
       "</table>\n",
       "</div>"
      ],
      "text/plain": [
       "        bookid  patronid   loandate    duedate returneddate\n",
       "loanid                                                     \n",
       "0        12230     46908 2005-03-09 2005-03-23          NaT\n",
       "1        16965     33458 2011-08-03 2011-08-17          NaT\n",
       "2        45521      1241 2011-01-08 2011-01-22          NaT\n",
       "3         1800     30177 2000-01-14 2000-01-28          NaT\n",
       "4        41583     16651 2014-05-12 2014-05-26          NaT"
      ]
     },
     "execution_count": 17,
     "metadata": {},
     "output_type": "execute_result"
    }
   ],
   "source": [
    "loan_df.head()"
   ]
  },
  {
   "cell_type": "markdown",
   "id": "22b038fc-5dbf-44a6-abfa-dca8fb7098f6",
   "metadata": {},
   "source": [
    "Now  we do have the dataset for the library we can start creating the database"
   ]
  },
  {
   "cell_type": "markdown",
   "id": "56c30203",
   "metadata": {},
   "source": [
    "Before you start going through the whole project you need to open your anaconda prompt or terminal\n",
    "activate your environment\n",
    "\n",
    "**VS code terminal --- remember your environment file path will be different from mine**\n",
    "\n",
    "(.env) C:\\Users\\ahiab\\python_works\\vsjupyter>set DB_USERNAME=usernamer\n",
    "\n",
    "(.env) C:\\Users\\ahiab\\python_works\\vsjupyter>set DB_USERNAME=password\n",
    "\n",
    "\n",
    "**Anaconda prompt --- your environment file path will be different from mine**\n",
    "\n",
    "(C:\\Users\\ahiab\\python_works\\env) C:\\Users\\ahiab\\python_works>DB_USERNAME=usernamer\n",
    "\n",
    "(C:\\Users\\ahiab\\python_works\\env) C:\\Users\\ahiab\\python_works>DB_USERNAME=password"
   ]
  },
  {
   "cell_type": "code",
   "execution_count": 18,
   "id": "046195de-a724-466d-a600-0b42cf5bb050",
   "metadata": {},
   "outputs": [],
   "source": [
    "# Since you might share your project others you don't want to have sensitive information in the code\n",
    "db_user=os.environ.get(\"DB_USERNAME\")\n",
    "db_password=os.environ.get(\"DB_PASSWORD\")"
   ]
  },
  {
   "cell_type": "markdown",
   "id": "6e6b6c6c",
   "metadata": {},
   "source": [
    "The best way to set up connection by using your environment variables where you sensitive infomation is hidden"
   ]
  },
  {
   "cell_type": "code",
   "execution_count": 19,
   "id": "94023eb7",
   "metadata": {},
   "outputs": [],
   "source": [
    "# setting up a connection to the database connection server\n",
    "cnx = con.connect(\n",
    "    auth_plugin='mysql_native_password',\n",
    "    host=\"localhost\",\n",
    "    user=db_user,\n",
    "    password =db_password\n",
    ")"
   ]
  },
  {
   "cell_type": "markdown",
   "id": "2cd64c1c",
   "metadata": {},
   "source": [
    "if you setup your connection this way you will expose your sensitive infomation"
   ]
  },
  {
   "cell_type": "code",
   "execution_count": 47,
   "id": "f03f250b-9c43-4e49-8ef3-9d64ecfb52cb",
   "metadata": {},
   "outputs": [],
   "source": [
    "# setting up a connection to the database connection server\n",
    "\n",
    "# cnx = con.connect(\n",
    "#     auth_plugin='mysql_native_password',\n",
    "#     host=\"localhost\",\n",
    "#     user=\"username\",\n",
    "#     password =\"password\"\n",
    "# )"
   ]
  },
  {
   "cell_type": "code",
   "execution_count": 21,
   "id": "1e79aaad-46ed-444c-a3d9-7872f5807324",
   "metadata": {},
   "outputs": [],
   "source": [
    "# Creating a cursor object that will write queries to the database\n",
    "cur = cnx.cursor()"
   ]
  },
  {
   "cell_type": "code",
   "execution_count": 22,
   "id": "ecdf8d12-dd34-4ba1-87b3-d7ff5be8996b",
   "metadata": {},
   "outputs": [],
   "source": [
    "# Dropping any database if they exist with same name as the one we are about creating\n",
    "cur.execute(\"DROP DATABASE library\")"
   ]
  },
  {
   "cell_type": "code",
   "execution_count": 23,
   "id": "3eda54aa-faef-4cb4-95ba-77e28b9f7b1c",
   "metadata": {},
   "outputs": [],
   "source": [
    "# Creating a database with the name library\n",
    "cur.execute(\"CREATE DATABASE library\")"
   ]
  },
  {
   "cell_type": "code",
   "execution_count": 24,
   "id": "550e405d-beeb-47c9-973f-176263e74fa7",
   "metadata": {},
   "outputs": [],
   "source": [
    "# Activate the use of the created library\n",
    "cur.execute(\"USE library\")"
   ]
  },
  {
   "cell_type": "code",
   "execution_count": 25,
   "id": "2c9b8191-d95f-49cf-9826-ff6e8094b9ae",
   "metadata": {},
   "outputs": [],
   "source": [
    "# Declaring a variable query that holds the syntax for creating the tables in that database\n",
    "query = \"\"\"\n",
    "CREATE TABLE books (\n",
    "    bookid INT AUTO_INCREMENT PRIMARY KEY,\n",
    "    author VARCHAR(255) NOT NULL,\n",
    "    title VARCHAR(255) NOT NULL,\n",
    "    published INT NOT NULL,\n",
    "    barcode VARCHAR(255) NOT NULL\n",
    ");\n",
    "\n",
    "CREATE TABLE patrons (\n",
    "    patronid INT AUTO_INCREMENT PRIMARY KEY,\n",
    "    firstname VARCHAR(255) NOT NULL,\n",
    "    lastname VARCHAR(255) NOT NULL,\n",
    "    email VARCHAR(255) NOT NULL\n",
    ");\n",
    "\n",
    "\n",
    "CREATE TABLE loans (\n",
    "    loanid INT AUTO_INCREMENT PRIMARY KEY,\n",
    "    bookid INT NOT NULL,\n",
    "    patronid INT NOT NULL,\n",
    "    loandate DATE NOT NULL,\n",
    "    duedate DATE NOT NULL,\n",
    "    returneddate DATE,\n",
    "    FOREIGN KEY (bookid) REFERENCES books(bookid),\n",
    "    FOREIGN KEY (patronid) REFERENCES patrons(patronid)\n",
    ");\n",
    "\n",
    "\"\"\""
   ]
  },
  {
   "cell_type": "code",
   "execution_count": 26,
   "id": "c694d7a0-2fa5-4e78-8bb3-dec4d00f308d",
   "metadata": {},
   "outputs": [],
   "source": [
    "# Creating the tables by passing the query to the cursor\n",
    "cur.execute(query)"
   ]
  },
  {
   "cell_type": "code",
   "execution_count": 27,
   "id": "0c6aaef4-2c57-48f2-b36b-f74850dd2e80",
   "metadata": {},
   "outputs": [],
   "source": [
    "# Creating a function that takes dataframe and tablename to generate the insert statement since we cannot type 50000 insert statement\n",
    "def insert_statement_generator(df, tablename):\n",
    "    for index, row in df.iterrows():\n",
    "        values=[]\n",
    "        for value in row: \n",
    "            if pd.isna(value):\n",
    "                value = \"NULL\"\n",
    "            else:\n",
    "                value =f'\"{value}\"'  \n",
    "            values.append(value)\n",
    "        col_name = \", \".join(df.columns)\n",
    "        chng_val = \", \".join(f\"{val}\" for val in values)\n",
    "        insert_statement = f\"INSERT INTO {tablename} ({col_name}) VALUES ({chng_val})\"\n",
    "        yield insert_statement  "
   ]
  },
  {
   "cell_type": "code",
   "execution_count": 28,
   "id": "9bce65ff-f741-4fb7-91d8-c8e638562a2f",
   "metadata": {},
   "outputs": [],
   "source": [
    "# Generating books table insert statement from book_df and covert the  object created by the yield in the function to list\n",
    "bk = list(insert_statement_generator(book_df, \"books\"))"
   ]
  },
  {
   "cell_type": "code",
   "execution_count": 36,
   "id": "5a8e902f-cc39-4edb-834e-8a0c502b47c1",
   "metadata": {},
   "outputs": [],
   "source": [
    "# Looping through the list and inserting into the books table\n",
    "for statement in bk:\n",
    "    cur.execute(statement)"
   ]
  },
  {
   "cell_type": "code",
   "execution_count": 37,
   "id": "4d86be4a-07a3-436e-a007-d3284b4ead47",
   "metadata": {},
   "outputs": [],
   "source": [
    "# Generating patrons table insert statement from patron_df and covert the object created by the yield in the function to list\n",
    "pn = list(insert_statement_generator(patron_df, \"patrons\"))"
   ]
  },
  {
   "cell_type": "code",
   "execution_count": 38,
   "id": "0e581b2a-8318-47e1-a247-3b3f7466264f",
   "metadata": {},
   "outputs": [],
   "source": [
    "# Looping through the list and inserting into the patrons table\n",
    "for statement in pn:\n",
    "    cur.execute(statement)"
   ]
  },
  {
   "cell_type": "code",
   "execution_count": 39,
   "id": "5ea252d9-3a9f-4e30-ace4-95fc6651cb2b",
   "metadata": {},
   "outputs": [],
   "source": [
    "# Generating patrons table insert statement from patron_df and covert the object created by the yield in the function to list\n",
    "ln = list(insert_statement_generator(loan_df, \"loans\"))"
   ]
  },
  {
   "cell_type": "code",
   "execution_count": 40,
   "id": "9bbbd36e-c24d-4a03-9eff-649849b2a6c5",
   "metadata": {},
   "outputs": [],
   "source": [
    "# Looping through the list and inserting into the patrons table\n",
    "for statement in ln:\n",
    "    cur.execute(statement)"
   ]
  },
  {
   "cell_type": "code",
   "execution_count": 41,
   "id": "f71f3a71-910e-4874-a765-28a82edf7125",
   "metadata": {},
   "outputs": [],
   "source": [
    "# Saving all your have done it to take effect in the database\n",
    "cnx.commit()"
   ]
  },
  {
   "cell_type": "markdown",
   "id": "81d60f0e-37ba-4840-84b3-5127d2d2bdfa",
   "metadata": {},
   "source": [
    "Now we have set up our database we can query it to answer analytical questions"
   ]
  },
  {
   "cell_type": "code",
   "execution_count": 42,
   "id": "56c5a6e4-ba50-4d45-a45f-79fbac3518ac",
   "metadata": {},
   "outputs": [],
   "source": [
    "# What are the most popular books based on the number of loans\n",
    "query1 = \"\"\"\n",
    "SELECT title, COUNT(*) as loan_count\n",
    "FROM books\n",
    "JOIN loans \n",
    "ON books.bookid = loans.bookid\n",
    "GROUP BY title\n",
    "ORDER BY loan_count DESC\n",
    "LIMIT 5;\n",
    "\"\"\""
   ]
  },
  {
   "cell_type": "code",
   "execution_count": 43,
   "id": "51a5293d-31b0-4716-bc95-c6d6e9c80aa2",
   "metadata": {},
   "outputs": [
    {
     "name": "stderr",
     "output_type": "stream",
     "text": [
      "C:\\Users\\ahiab\\AppData\\Local\\Temp\\ipykernel_14004\\434231140.py:1: UserWarning: pandas only supports SQLAlchemy connectable (engine/connection) or database string URI or sqlite3 DBAPI2 connection. Other DBAPI2 objects are not tested. Please consider using SQLAlchemy.\n",
      "  qry_df = pd.read_sql(query1, cnx)\n"
     ]
    }
   ],
   "source": [
    "qry_df = pd.read_sql(query1, cnx)"
   ]
  },
  {
   "cell_type": "code",
   "execution_count": 44,
   "id": "2975ecff-7f7b-4e8c-91a2-c368897c552a",
   "metadata": {},
   "outputs": [
    {
     "data": {
      "text/html": [
       "<div>\n",
       "<style scoped>\n",
       "    .dataframe tbody tr th:only-of-type {\n",
       "        vertical-align: middle;\n",
       "    }\n",
       "\n",
       "    .dataframe tbody tr th {\n",
       "        vertical-align: top;\n",
       "    }\n",
       "\n",
       "    .dataframe thead th {\n",
       "        text-align: right;\n",
       "    }\n",
       "</style>\n",
       "<table border=\"1\" class=\"dataframe\">\n",
       "  <thead>\n",
       "    <tr style=\"text-align: right;\">\n",
       "      <th></th>\n",
       "      <th>title</th>\n",
       "      <th>loan_count</th>\n",
       "    </tr>\n",
       "  </thead>\n",
       "  <tbody>\n",
       "    <tr>\n",
       "      <th>0</th>\n",
       "      <td>Choose his control figure per nature air.</td>\n",
       "      <td>8</td>\n",
       "    </tr>\n",
       "    <tr>\n",
       "      <th>1</th>\n",
       "      <td>Inside against full dream us national.</td>\n",
       "      <td>7</td>\n",
       "    </tr>\n",
       "    <tr>\n",
       "      <th>2</th>\n",
       "      <td>Page every late.</td>\n",
       "      <td>7</td>\n",
       "    </tr>\n",
       "    <tr>\n",
       "      <th>3</th>\n",
       "      <td>Affect sure oil thus.</td>\n",
       "      <td>7</td>\n",
       "    </tr>\n",
       "    <tr>\n",
       "      <th>4</th>\n",
       "      <td>Bad he quickly wind management.</td>\n",
       "      <td>7</td>\n",
       "    </tr>\n",
       "  </tbody>\n",
       "</table>\n",
       "</div>"
      ],
      "text/plain": [
       "                                       title  loan_count\n",
       "0  Choose his control figure per nature air.           8\n",
       "1     Inside against full dream us national.           7\n",
       "2                           Page every late.           7\n",
       "3                      Affect sure oil thus.           7\n",
       "4            Bad he quickly wind management.           7"
      ]
     },
     "execution_count": 44,
     "metadata": {},
     "output_type": "execute_result"
    }
   ],
   "source": [
    "qry_df"
   ]
  },
  {
   "cell_type": "code",
   "execution_count": 45,
   "id": "6eda768a-b29f-4e42-b4c6-0ceb8eb3b1c8",
   "metadata": {},
   "outputs": [
    {
     "data": {
      "image/png": "[encoded data removed]",
      "text/plain": [
       "<Figure size 640x480 with 1 Axes>"
      ]
     },
     "metadata": {},
     "output_type": "display_data"
    }
   ],
   "source": [
    "sns.barplot(data=qry_df, x=\"title\", y=\"loan_count\")\n",
    "plt.xticks(rotation=90);"
   ]
  },
  {
   "cell_type": "code",
   "execution_count": 46,
   "id": "2a2d3917-d657-4837-8b8c-02c0b2c1b668",
   "metadata": {},
   "outputs": [],
   "source": [
    "# you can query you database use the visual to explore the resuts.\n",
    "\n"
   ]
  },
  {
   "cell_type": "markdown",
   "id": "5d42e20f-3b17-4fc5-805c-a1f786f8c7b8",
   "metadata": {},
   "source": [
    "* What are the most popular books based on the number of loans? --- firstone already done at the top\n",
    "* What are the books that have been published in a specific year?\n",
    "* What are the books with a specific author?\n",
    "* What is the average loan duration for a book?\n",
    "* What are the most popular books based on the number of loans?\n",
    "* How many books have been returned late?\n",
    "* What is the average number of books loaned by each patron?\n",
    "* Who are the patrons who have taken the most number of loans?\n",
    "* What is the distribution of patrons based on their email domain?"
   ]
  },
  {
   "cell_type": "code",
   "execution_count": null,
   "id": "29f9f28d-03a3-4ef0-a498-59647582039d",
   "metadata": {},
   "outputs": [],
   "source": []
  }
 ],
 "metadata": {
  "kernelspec": {
   "display_name": "Python 3 (ipykernel)",
   "language": "python",
   "name": "python3"
  },
  "language_info": {
   "codemirror_mode": {
    "name": "ipython",
    "version": 3
   },
   "file_extension": ".py",
   "mimetype": "text/x-python",
   "name": "python",
   "nbconvert_exporter": "python",
   "pygments_lexer": "ipython3",
   "version": "3.10.8"
  },
  "vscode": {
   "interpreter": {
    "hash": "a20291e34db45e63bd912534e999f96e4d96feb2571251405e0fd556f76c3dfb"
   }
  }
 },
 "nbformat": 4,
 "nbformat_minor": 5
}
